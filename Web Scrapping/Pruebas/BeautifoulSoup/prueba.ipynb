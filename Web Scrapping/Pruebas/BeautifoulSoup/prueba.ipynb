{
 "cells": [
  {
   "cell_type": "markdown",
   "metadata": {},
   "source": [
    "# Prueba funcionamiento BeautifulSoup\n",
    "---\n",
    "- _Parsear_: analizar y convertir una entrada en un formato interno que el entorno de ejecución pueda realmente manejar.\n",
    "\n",
    "El paquete Beautiful Soup es ampliamente utilizado en técnicas de «scraping» permitiendo «parsear» principalmente código HTML."
   ]
  },
  {
   "cell_type": "code",
   "execution_count": 1,
   "metadata": {},
   "outputs": [],
   "source": [
    "from bs4 import BeautifulSoup\n",
    "import re"
   ]
  },
  {
   "cell_type": "markdown",
   "metadata": {},
   "source": [
    "## Haciendo la sopa\n",
    "---\n",
    "Para empezar a trabajar con Beautiful Soup es necesario construir un objeto de tipo BeautifulSoup que reciba el contenido a «parsear»:"
   ]
  },
  {
   "cell_type": "code",
   "execution_count": 2,
   "metadata": {},
   "outputs": [],
   "source": [
    "contents = \"\"\"\n",
    "\n",
    "<html lang=\"en\">\n",
    "\n",
    "<head>\n",
    "\n",
    "    <title>Just testing</title>\n",
    "\n",
    "</head>\n",
    "\n",
    "<body>\n",
    "\n",
    "    <h1>Just testing</h1>\n",
    "\n",
    "    <div class=\"block\">\n",
    "\n",
    "      <h2>Some links</h2>\n",
    "\n",
    "      <p>Hi there!</p>\n",
    "\n",
    "      <ul id=\"data\">\n",
    "\n",
    "        <li class=\"blue\"><a href=\"https://example1.com\">Example 1</a></li>\n",
    "\n",
    "        <li class=\"red\"><a href=\"https://example2.com\">Example 2</a></li>\n",
    "\n",
    "        <li class=\"gold\"><a href=\"https://example3.com\">Example 3</a></li>\n",
    "\n",
    "      </ul>\n",
    "\n",
    "    </div>\n",
    "\n",
    "    <div class=\"block\">\n",
    "\n",
    "      <h2>Formulario</h2>\n",
    "\n",
    "      <form action=\"\" method=\"post\">\n",
    "\n",
    "        <label for=\"POST-name\">Nombre:</label>\n",
    "\n",
    "        <input id=\"POST-name\" type=\"text\" name=\"name\">\n",
    "\n",
    "        <input type=\"submit\" value=\"Save\">\n",
    "\n",
    "      </form>\n",
    "\n",
    "    </div>\n",
    "\n",
    "    <div class=\"footer\">\n",
    "\n",
    "      This is the footer\n",
    "\n",
    "      <span class=\"inline\"><p>This is span 1</p></span>\n",
    "\n",
    "      <span class=\"inline\"><p>This is span 2</p></span>\n",
    "\n",
    "      <span class=\"inline\"><p>This is span 2</p></span>\n",
    "\n",
    "    </div>\n",
    "\n",
    "</body>\n",
    "\n",
    "</html>\n",
    "\n",
    "\"\"\""
   ]
  },
  {
   "cell_type": "code",
   "execution_count": 3,
   "metadata": {},
   "outputs": [],
   "source": [
    "soup = BeautifulSoup(contents, features='html.parser')"
   ]
  },
  {
   "cell_type": "markdown",
   "metadata": {},
   "source": [
    "## Localizar elementos (find_all)\n",
    "---\n",
    "- Localizar todos los enlaces (`a`):"
   ]
  },
  {
   "cell_type": "code",
   "execution_count": 4,
   "metadata": {},
   "outputs": [
    {
     "data": {
      "text/plain": [
       "[<a href=\"https://example1.com\">Example 1</a>,\n",
       " <a href=\"https://example2.com\">Example 2</a>,\n",
       " <a href=\"https://example3.com\">Example 3</a>]"
      ]
     },
     "execution_count": 4,
     "metadata": {},
     "output_type": "execute_result"
    }
   ],
   "source": [
    "soup.find_all('a')"
   ]
  },
  {
   "cell_type": "markdown",
   "metadata": {},
   "source": [
    "- Localizar todos los elementos con la clase `inline`:"
   ]
  },
  {
   "cell_type": "code",
   "execution_count": 5,
   "metadata": {},
   "outputs": [
    {
     "data": {
      "text/plain": [
       "[<span class=\"inline\"><p>This is span 1</p></span>,\n",
       " <span class=\"inline\"><p>This is span 2</p></span>,\n",
       " <span class=\"inline\"><p>This is span 2</p></span>]"
      ]
     },
     "execution_count": 5,
     "metadata": {},
     "output_type": "execute_result"
    }
   ],
   "source": [
    "soup.find_all(class_='inline')"
   ]
  },
  {
   "cell_type": "markdown",
   "metadata": {},
   "source": [
    "- Localizar todos los «divs» con la clase `footer`:"
   ]
  },
  {
   "cell_type": "code",
   "execution_count": 6,
   "metadata": {},
   "outputs": [
    {
     "data": {
      "text/plain": [
       "[<div class=\"footer\">\n",
       " \n",
       "       This is the footer\n",
       " \n",
       "       <span class=\"inline\"><p>This is span 1</p></span>\n",
       " <span class=\"inline\"><p>This is span 2</p></span>\n",
       " <span class=\"inline\"><p>This is span 2</p></span>\n",
       " </div>]"
      ]
     },
     "execution_count": 6,
     "metadata": {},
     "output_type": "execute_result"
    }
   ],
   "source": [
    "soup.find_all('div', class_='footer')  # ≈ soup.find_all('div', 'footer')"
   ]
  },
  {
   "cell_type": "markdown",
   "metadata": {},
   "source": [
    "- Localizar todos los elementos cuyo atributo `type` tenga el valor `text`:"
   ]
  },
  {
   "cell_type": "code",
   "execution_count": 7,
   "metadata": {},
   "outputs": [
    {
     "data": {
      "text/plain": [
       "[<input id=\"POST-name\" name=\"name\" type=\"text\"/>]"
      ]
     },
     "execution_count": 7,
     "metadata": {},
     "output_type": "execute_result"
    }
   ],
   "source": [
    "soup.find_all(type='text')"
   ]
  },
  {
   "cell_type": "markdown",
   "metadata": {},
   "source": [
    "- Localizar todos los los `h2` que contengan el texto `Formulario`:"
   ]
  },
  {
   "cell_type": "code",
   "execution_count": 21,
   "metadata": {},
   "outputs": [
    {
     "data": {
      "text/plain": [
       "[<h2>Formulario</h2>]"
      ]
     },
     "execution_count": 21,
     "metadata": {},
     "output_type": "execute_result"
    }
   ],
   "source": [
    "soup.find_all('h2', string='Formulario')"
   ]
  },
  {
   "cell_type": "markdown",
   "metadata": {},
   "source": [
    "- Localizar todos los elementos de título `h1, h2, h3, ...`. Esto lo podemos atacar usando _expresiones regulares_:"
   ]
  },
  {
   "cell_type": "code",
   "execution_count": 9,
   "metadata": {},
   "outputs": [
    {
     "data": {
      "text/plain": [
       "[<h1>Just testing</h1>, <h2>Some links</h2>, <h2>Formulario</h2>]"
      ]
     },
     "execution_count": 9,
     "metadata": {},
     "output_type": "execute_result"
    }
   ],
   "source": [
    "soup.find_all(re.compile(r'^h\\d+.*'))"
   ]
  },
  {
   "cell_type": "markdown",
   "metadata": {},
   "source": [
    "- Localizar todos los «input» y todos los «span»:"
   ]
  },
  {
   "cell_type": "code",
   "execution_count": 10,
   "metadata": {},
   "outputs": [
    {
     "data": {
      "text/plain": [
       "[<input id=\"POST-name\" name=\"name\" type=\"text\"/>,\n",
       " <input type=\"submit\" value=\"Save\"/>,\n",
       " <span class=\"inline\"><p>This is span 1</p></span>,\n",
       " <span class=\"inline\"><p>This is span 2</p></span>,\n",
       " <span class=\"inline\"><p>This is span 2</p></span>]"
      ]
     },
     "execution_count": 10,
     "metadata": {},
     "output_type": "execute_result"
    }
   ],
   "source": [
    "soup.find_all(['input', 'span'])"
   ]
  },
  {
   "cell_type": "markdown",
   "metadata": {},
   "source": [
    "- Localizar todos los párrafos que están dentro del pie de página (*usando selectores CSS*):"
   ]
  },
  {
   "cell_type": "code",
   "execution_count": 11,
   "metadata": {},
   "outputs": [
    {
     "data": {
      "text/plain": [
       "[<p>This is span 1</p>, <p>This is span 2</p>, <p>This is span 2</p>]"
      ]
     },
     "execution_count": 11,
     "metadata": {},
     "output_type": "execute_result"
    }
   ],
   "source": [
    "soup.select('.footer p') #obtiene los parrafos (p) dl div con class footer"
   ]
  },
  {
   "cell_type": "markdown",
   "metadata": {},
   "source": [
    "## Localizar único elemento (find)\n",
    "---\n",
    "Beautiful Soup nos proporciona la función `find()` que trata de *localizar un único elemento*. Hay que tener en cuenta dos circunstancias:\n",
    "- En caso de que el elemento buscado no exista, se devuelve *None*.\n",
    "- En caso de que existan múltiples elementos, se devuelve el primero.\n"
   ]
  },
  {
   "cell_type": "code",
   "execution_count": 12,
   "metadata": {},
   "outputs": [
    {
     "data": {
      "text/plain": [
       "<form action=\"\" method=\"post\">\n",
       "<label for=\"POST-name\">Nombre:</label>\n",
       "<input id=\"POST-name\" name=\"name\" type=\"text\"/>\n",
       "<input type=\"submit\" value=\"Save\"/>\n",
       "</form>"
      ]
     },
     "execution_count": 12,
     "metadata": {},
     "output_type": "execute_result"
    }
   ],
   "source": [
    "soup.find('form')"
   ]
  },
  {
   "cell_type": "code",
   "execution_count": 13,
   "metadata": {},
   "outputs": [],
   "source": [
    "# Elemento que no existe\n",
    "soup.find('strange-tag')"
   ]
  },
  {
   "cell_type": "code",
   "execution_count": 23,
   "metadata": {},
   "outputs": [
    {
     "data": {
      "text/plain": [
       "<li class=\"blue\"><a href=\"https://example1.com\">Example 1</a></li>"
      ]
     },
     "execution_count": 23,
     "metadata": {},
     "output_type": "execute_result"
    }
   ],
   "source": [
    "# Múltiples \"li\". Sólo se devuelve el primero\n",
    "soup.find('li')"
   ]
  },
  {
   "cell_type": "markdown",
   "metadata": {},
   "source": [
    "## Localizar desde elemento\n",
    "---\n",
    "Todas las búsquedas se pueden realizar desde cualquier elemento preexistente, no únicamente desde la raíz del DOM.\n",
    "Veamos un ejemplo de ello. \n",
    "\n",
    "Si tratamos de *localizar todos los títulos «h2»* vamos a encontrar dos de ellos:"
   ]
  },
  {
   "cell_type": "code",
   "execution_count": 15,
   "metadata": {},
   "outputs": [
    {
     "data": {
      "text/plain": [
       "[<h2>Some links</h2>, <h2>Formulario</h2>]"
      ]
     },
     "execution_count": 15,
     "metadata": {},
     "output_type": "execute_result"
    }
   ],
   "source": [
    "soup.find_all('h2')"
   ]
  },
  {
   "cell_type": "markdown",
   "metadata": {},
   "source": [
    "Pero si, previamente, nos ubicamos en el segundo bloque de contenido, sólo vamos a encontrar uno de ellos:"
   ]
  },
  {
   "cell_type": "code",
   "execution_count": 16,
   "metadata": {},
   "outputs": [
    {
     "data": {
      "text/plain": [
       "<div class=\"block\">\n",
       "<h2>Formulario</h2>\n",
       "<form action=\"\" method=\"post\">\n",
       "<label for=\"POST-name\">Nombre:</label>\n",
       "<input id=\"POST-name\" name=\"name\" type=\"text\"/>\n",
       "<input type=\"submit\" value=\"Save\"/>\n",
       "</form>\n",
       "</div>"
      ]
     },
     "execution_count": 16,
     "metadata": {},
     "output_type": "execute_result"
    }
   ],
   "source": [
    "second_block = soup.find_all('div', 'block')[1] # con el numero de los corchetes indicas el numero \n",
    "#del bloque al que quieres ir 0 para el primero, 1 para el segundo, etc.\n",
    "second_block"
   ]
  },
  {
   "cell_type": "code",
   "execution_count": 17,
   "metadata": {},
   "outputs": [
    {
     "data": {
      "text/plain": [
       "[<h2>Formulario</h2>]"
      ]
     },
     "execution_count": 17,
     "metadata": {},
     "output_type": "execute_result"
    }
   ],
   "source": [
    "second_block.find_all('h2')"
   ]
  },
  {
   "cell_type": "markdown",
   "metadata": {},
   "source": [
    "## Otras funciones de búsqueda\n",
    "---\n",
    "Hay definidas una serie de funciones adicionales de búsqueda para cuestiones más particulares:\n",
    "- Localizar los *«div» superiores* a partir de un elemento concreto:"
   ]
  },
  {
   "cell_type": "code",
   "execution_count": 18,
   "metadata": {},
   "outputs": [
    {
     "data": {
      "text/plain": [
       "<li class=\"gold\"><a href=\"https://example3.com\">Example 3</a></li>"
      ]
     },
     "execution_count": 18,
     "metadata": {},
     "output_type": "execute_result"
    }
   ],
   "source": [
    "gold = soup.find('li', 'gold')\n",
    "gold"
   ]
  },
  {
   "cell_type": "code",
   "execution_count": 19,
   "metadata": {},
   "outputs": [
    {
     "data": {
      "text/plain": [
       "[<div class=\"block\">\n",
       " <h2>Some links</h2>\n",
       " <p>Hi there!</p>\n",
       " <ul id=\"data\">\n",
       " <li class=\"blue\"><a href=\"https://example1.com\">Example 1</a></li>\n",
       " <li class=\"red\"><a href=\"https://example2.com\">Example 2</a></li>\n",
       " <li class=\"gold\"><a href=\"https://example3.com\">Example 3</a></li>\n",
       " </ul>\n",
       " </div>]"
      ]
     },
     "execution_count": 19,
     "metadata": {},
     "output_type": "execute_result"
    }
   ],
   "source": [
    "gold.find_parents('div')"
   ]
  },
  {
   "cell_type": "markdown",
   "metadata": {},
   "source": [
    "Se podría decir que la función `find_all()` busca en _descendientes_ y que la función `find_parents()` busca en _ascendientes_.\n",
    "\n",
    "(También existe la versión de esta función que devuelve un _único elemento_: `find_parent()`)\n",
    "\n",
    "- Localizar los *elementos hermanos siguientes* a uno dado:"
   ]
  },
  {
   "cell_type": "code",
   "execution_count": 24,
   "metadata": {},
   "outputs": [
    {
     "data": {
      "text/plain": [
       "<li class=\"blue\"><a href=\"https://example1.com\">Example 1</a></li>"
      ]
     },
     "execution_count": 24,
     "metadata": {},
     "output_type": "execute_result"
    }
   ],
   "source": [
    "blue_li = soup.find('li', 'blue')\n",
    "blue_li"
   ]
  },
  {
   "cell_type": "code",
   "execution_count": 25,
   "metadata": {},
   "outputs": [
    {
     "data": {
      "text/plain": [
       "[<li class=\"red\"><a href=\"https://example2.com\">Example 2</a></li>,\n",
       " <li class=\"gold\"><a href=\"https://example3.com\">Example 3</a></li>]"
      ]
     },
     "execution_count": 25,
     "metadata": {},
     "output_type": "execute_result"
    }
   ],
   "source": [
    "blue_li.find_next_siblings()"
   ]
  },
  {
   "cell_type": "markdown",
   "metadata": {},
   "source": [
    "(También existe la versión de esta función que devuelve un único elemento: `find_next_sibling()`)\n",
    "- Localizar los _elementos hermanos anteriores_ a uno dado:"
   ]
  },
  {
   "cell_type": "code",
   "execution_count": 26,
   "metadata": {},
   "outputs": [
    {
     "data": {
      "text/plain": [
       "<li class=\"gold\"><a href=\"https://example3.com\">Example 3</a></li>"
      ]
     },
     "execution_count": 26,
     "metadata": {},
     "output_type": "execute_result"
    }
   ],
   "source": [
    "gold_li = soup.find('li', 'gold')\n",
    "gold_li"
   ]
  },
  {
   "cell_type": "code",
   "execution_count": 27,
   "metadata": {},
   "outputs": [
    {
     "data": {
      "text/plain": [
       "[<li class=\"red\"><a href=\"https://example2.com\">Example 2</a></li>,\n",
       " <li class=\"blue\"><a href=\"https://example1.com\">Example 1</a></li>]"
      ]
     },
     "execution_count": 27,
     "metadata": {},
     "output_type": "execute_result"
    }
   ],
   "source": [
    "\n",
    "gold_li.find_previous_siblings()"
   ]
  },
  {
   "cell_type": "markdown",
   "metadata": {},
   "source": [
    "(También existe la versión de esta función que devuelve un único elemento: `find_previous_sibling()`)\n",
    "- Localizar _todos los elementos a continuación_ de uno dado:"
   ]
  },
  {
   "cell_type": "code",
   "execution_count": 28,
   "metadata": {},
   "outputs": [
    {
     "data": {
      "text/plain": [
       "<input type=\"submit\" value=\"Save\"/>"
      ]
     },
     "execution_count": 28,
     "metadata": {},
     "output_type": "execute_result"
    }
   ],
   "source": [
    "submit = soup.find('input', type='submit')\n",
    "submit"
   ]
  },
  {
   "cell_type": "code",
   "execution_count": 29,
   "metadata": {},
   "outputs": [
    {
     "data": {
      "text/plain": [
       "[<div class=\"footer\">\n",
       " \n",
       "       This is the footer\n",
       " \n",
       "       <span class=\"inline\"><p>This is span 1</p></span>\n",
       " <span class=\"inline\"><p>This is span 2</p></span>\n",
       " <span class=\"inline\"><p>This is span 2</p></span>\n",
       " </div>,\n",
       " <span class=\"inline\"><p>This is span 1</p></span>,\n",
       " <p>This is span 1</p>,\n",
       " <span class=\"inline\"><p>This is span 2</p></span>,\n",
       " <p>This is span 2</p>,\n",
       " <span class=\"inline\"><p>This is span 2</p></span>,\n",
       " <p>This is span 2</p>]"
      ]
     },
     "execution_count": 29,
     "metadata": {},
     "output_type": "execute_result"
    }
   ],
   "source": [
    "\n",
    "submit.find_all_next()"
   ]
  },
  {
   "cell_type": "markdown",
   "metadata": {},
   "source": [
    "(También existe la versión de esta función que devuelve un único elemento: `find_next()`)\n",
    "- Localizar todos los elementos previos a uno dado:"
   ]
  },
  {
   "cell_type": "code",
   "execution_count": 31,
   "metadata": {},
   "outputs": [
    {
     "data": {
      "text/plain": [
       "<ul id=\"data\">\n",
       "<li class=\"blue\"><a href=\"https://example1.com\">Example 1</a></li>\n",
       "<li class=\"red\"><a href=\"https://example2.com\">Example 2</a></li>\n",
       "<li class=\"gold\"><a href=\"https://example3.com\">Example 3</a></li>\n",
       "</ul>"
      ]
     },
     "execution_count": 31,
     "metadata": {},
     "output_type": "execute_result"
    }
   ],
   "source": [
    "ul_data = soup.find('ul', id='data')\n",
    "ul_data"
   ]
  },
  {
   "cell_type": "code",
   "execution_count": 37,
   "metadata": {},
   "outputs": [
    {
     "data": {
      "text/plain": [
       "<p>Hi there!</p>"
      ]
     },
     "execution_count": 37,
     "metadata": {},
     "output_type": "execute_result"
    }
   ],
   "source": [
    "ul_data.find_previous() #Devuelve un único elemento anterior"
   ]
  },
  {
   "cell_type": "code",
   "execution_count": 38,
   "metadata": {},
   "outputs": [
    {
     "data": {
      "text/plain": [
       "[<h2>Some links</h2>, <h1>Just testing</h1>]"
      ]
     },
     "execution_count": 38,
     "metadata": {},
     "output_type": "execute_result"
    }
   ],
   "source": [
    "ul_data.find_all_previous(['h1', 'h2']) #Devuelve todos los elementos anteriores que coinciden con los\n",
    "# indicados por parametros"
   ]
  },
  {
   "cell_type": "markdown",
   "metadata": {},
   "source": [
    "Si hubiéramos hecho esta búsqueda usando `find_parents()` no habríamos obtenido el mismo resultado ya que los elementos de título no son elementos superiores de «ul»:"
   ]
  },
  {
   "cell_type": "code",
   "execution_count": 39,
   "metadata": {},
   "outputs": [
    {
     "data": {
      "text/plain": [
       "[]"
      ]
     },
     "execution_count": 39,
     "metadata": {},
     "output_type": "execute_result"
    }
   ],
   "source": [
    "ul_data.find_parents(['h1', 'h2'])"
   ]
  },
  {
   "cell_type": "markdown",
   "metadata": {},
   "source": [
    "## Acceder al contenido\n",
    "---\n",
    "Simplificando, podríamos decir que cada elemento de la famosa «sopa» de _Beautiful Soup_ puede ser un `bs4.element.Tag` o un «string».\n",
    "Para el caso de los «tags» existe la posibilidad de acceder a su contenido, al nombre del elemento o a sus atributos.\n",
    "- Nombre de etiqueta: Podemos conocer el nombre de la etiqueta de un elemento usando el atributo `name`"
   ]
  },
  {
   "cell_type": "code",
   "execution_count": 40,
   "metadata": {},
   "outputs": [
    {
     "data": {
      "text/plain": [
       "'[document]'"
      ]
     },
     "execution_count": 40,
     "metadata": {},
     "output_type": "execute_result"
    }
   ],
   "source": [
    "soup.name"
   ]
  },
  {
   "cell_type": "code",
   "execution_count": 43,
   "metadata": {},
   "outputs": [
    {
     "data": {
      "text/plain": [
       "'ul'"
      ]
     },
     "execution_count": 43,
     "metadata": {},
     "output_type": "execute_result"
    }
   ],
   "source": [
    "elem = soup.find('ul', id='data')\n",
    "elem.name"
   ]
  },
  {
   "cell_type": "code",
   "execution_count": 45,
   "metadata": {},
   "outputs": [
    {
     "data": {
      "text/plain": [
       "'h1'"
      ]
     },
     "execution_count": 45,
     "metadata": {},
     "output_type": "execute_result"
    }
   ],
   "source": [
    "elem = soup.find('h1')\n",
    "elem.name"
   ]
  },
  {
   "cell_type": "markdown",
   "metadata": {},
   "source": [
    "(Es posible modificar el nombre de una etiqueta con una simple asignación.)\n",
    "- Acceso a atributos: los atributos de un elemento están disponibles como claves de un diccionario."
   ]
  },
  {
   "cell_type": "code",
   "execution_count": 46,
   "metadata": {},
   "outputs": [
    {
     "data": {
      "text/plain": [
       "<input id=\"POST-name\" name=\"name\" type=\"text\"/>"
      ]
     },
     "execution_count": 46,
     "metadata": {},
     "output_type": "execute_result"
    }
   ],
   "source": [
    "elem = soup.find('input', id='POST-name')\n",
    "elem"
   ]
  },
  {
   "cell_type": "code",
   "execution_count": 47,
   "metadata": {},
   "outputs": [
    {
     "data": {
      "text/plain": [
       "'POST-name'"
      ]
     },
     "execution_count": 47,
     "metadata": {},
     "output_type": "execute_result"
    }
   ],
   "source": [
    "elem['id']"
   ]
  },
  {
   "cell_type": "code",
   "execution_count": 48,
   "metadata": {},
   "outputs": [
    {
     "data": {
      "text/plain": [
       "'name'"
      ]
     },
     "execution_count": 48,
     "metadata": {},
     "output_type": "execute_result"
    }
   ],
   "source": [
    "elem['name']"
   ]
  },
  {
   "cell_type": "code",
   "execution_count": 49,
   "metadata": {},
   "outputs": [
    {
     "data": {
      "text/plain": [
       "'text'"
      ]
     },
     "execution_count": 49,
     "metadata": {},
     "output_type": "execute_result"
    }
   ],
   "source": [
    "elem['type']"
   ]
  },
  {
   "cell_type": "markdown",
   "metadata": {},
   "source": [
    "Exite una forma de acceder al diccionario completo de atributos:"
   ]
  },
  {
   "cell_type": "code",
   "execution_count": 50,
   "metadata": {},
   "outputs": [
    {
     "data": {
      "text/plain": [
       "{'id': 'POST-name', 'type': 'text', 'name': 'name'}"
      ]
     },
     "execution_count": 50,
     "metadata": {},
     "output_type": "execute_result"
    }
   ],
   "source": [
    "elem.attrs"
   ]
  },
  {
   "cell_type": "markdown",
   "metadata": {},
   "source": [
    "(Es posible modificar el valor de un atributo con una simple asignación.)"
   ]
  }
 ],
 "metadata": {
  "kernelspec": {
   "display_name": "Python 3",
   "language": "python",
   "name": "python3"
  },
  "language_info": {
   "codemirror_mode": {
    "name": "ipython",
    "version": 3
   },
   "file_extension": ".py",
   "mimetype": "text/x-python",
   "name": "python",
   "nbconvert_exporter": "python",
   "pygments_lexer": "ipython3",
   "version": "3.11.4"
  }
 },
 "nbformat": 4,
 "nbformat_minor": 2
}
